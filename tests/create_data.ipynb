{
 "metadata": {
  "name": ""
 },
 "nbformat": 3,
 "nbformat_minor": 0,
 "worksheets": [
  {
   "cells": [
    {
     "cell_type": "code",
     "collapsed": false,
     "input": [
      "import random as rd\n",
      "import numpy as np\n",
      "import pylab as plt\n",
      "%matplotlib inline\n",
      "rd.seed(42)\n",
      "NUM_COL = 125\n",
      "NUM_ROW =100000\n",
      "mu_arr = [rd.randint(10000,70000) for i in range(NUM_ROW)]"
     ],
     "language": "python",
     "metadata": {},
     "outputs": [],
     "prompt_number": 4
    },
    {
     "cell_type": "code",
     "collapsed": false,
     "input": [
      "DB = np.zeros((NUM_ROW,NUM_COL), dtype=np.int)"
     ],
     "language": "python",
     "metadata": {},
     "outputs": [],
     "prompt_number": 116
    },
    {
     "cell_type": "code",
     "collapsed": false,
     "input": [
      "for i in xrange(NUM_ROW):\n",
      "    mu = mu_arr[i]\n",
      "    DB[i] = np.random.normal(mu, mu/3,NUM_COL)"
     ],
     "language": "python",
     "metadata": {},
     "outputs": [],
     "prompt_number": 117
    },
    {
     "cell_type": "code",
     "collapsed": false,
     "input": [
      "for i in xrange(NUM_ROW):\n",
      "    DB[i,0] = i\n",
      "DB = DB.astype(np.int)\n",
      "DAY100 = DB[:,100]"
     ],
     "language": "python",
     "metadata": {},
     "outputs": [],
     "prompt_number": 118
    },
    {
     "cell_type": "code",
     "collapsed": false,
     "input": [
      "HOUSE = np.absolute(0.2* np.random.normal(300000, 200000, (2,NUM_ROW))).T"
     ],
     "language": "python",
     "metadata": {},
     "outputs": [],
     "prompt_number": 119
    },
    {
     "cell_type": "code",
     "collapsed": false,
     "input": [
      "for i in xrange(NUM_ROW):\n",
      "    HOUSE[i,0] = i\n",
      "HOUSE = HOUSE.astype(np.int)\n",
      "HOUSE"
     ],
     "language": "python",
     "metadata": {},
     "outputs": [
      {
       "metadata": {},
       "output_type": "pyout",
       "prompt_number": 127,
       "text": [
        "array([[     0,  65545],\n",
        "       [     1,  11077],\n",
        "       [     2, 133575],\n",
        "       ..., \n",
        "       [ 99997,  66294],\n",
        "       [ 99998,  46085],\n",
        "       [ 99999, 124162]])"
       ]
      }
     ],
     "prompt_number": 127
    },
    {
     "cell_type": "code",
     "collapsed": false,
     "input": [
      "num = 0\n",
      "for i in xrange(NUM_ROW):\n",
      "    if HOUSE[i,1] <= DAY100[i]:\n",
      "        num+=1\n",
      "print num"
     ],
     "language": "python",
     "metadata": {},
     "outputs": [
      {
       "output_type": "stream",
       "stream": "stdout",
       "text": [
        "31555\n"
       ]
      }
     ],
     "prompt_number": 120
    },
    {
     "cell_type": "code",
     "collapsed": false,
     "input": [
      "s = \"CREATE TABLE test125for i in xrange(NUM_ROW):\n",
      "    DB[i,0] = i (name int, \"\n",
      "for i in range(1,NUM_COL):\n",
      "    s+=\"day\"+str(i)+\" int,\"\n",
      "print s"
     ],
     "language": "python",
     "metadata": {},
     "outputs": [
      {
       "output_type": "stream",
       "stream": "stdout",
       "text": [
        "CREATE TABLE test125 (name int, day1 int,day2 int,day3 int,day4 int,day5 int,day6 int,day7 int,day8 int,day9 int,day10 int,day11 int,day12 int,day13 int,day14 int,day15 int,day16 int,day17 int,day18 int,day19 int,day20 int,day21 int,day22 int,day23 int,day24 int,day25 int,day26 int,day27 int,day28 int,day29 int,day30 int,day31 int,day32 int,day33 int,day34 int,day35 int,day36 int,day37 int,day38 int,day39 int,day40 int,day41 int,day42 int,day43 int,day44 int,day45 int,day46 int,day47 int,day48 int,day49 int,day50 int,day51 int,day52 int,day53 int,day54 int,day55 int,day56 int,day57 int,day58 int,day59 int,day60 int,day61 int,day62 int,day63 int,day64 int,day65 int,day66 int,day67 int,day68 int,day69 int,day70 int,day71 int,day72 int,day73 int,day74 int,day75 int,day76 int,day77 int,day78 int,day79 int,day80 int,day81 int,day82 int,day83 int,day84 int,day85 int,day86 int,day87 int,day88 int,day89 int,day90 int,day91 int,day92 int,day93 int,day94 int,day95 int,day96 int,day97 int,day98 int,day99 int,day100 int,day101 int,day102 int,day103 int,day104 int,day105 int,day106 int,day107 int,day108 int,day109 int,day110 int,day111 int,day112 int,day113 int,day114 int,day115 int,day116 int,day117 int,day118 int,day119 int,day120 int,day121 int,day122 int,day123 int,day124 int,\n"
       ]
      }
     ],
     "prompt_number": 121
    },
    {
     "cell_type": "code",
     "collapsed": false,
     "input": [
      "# f = open(\"db.csv\",\"w\")\n",
      "\n",
      "# for i in xrange(NUM_ROW):\n",
      "#     print i\n",
      "#     for j in xrange(NUM_COL-1):\n",
      "#         f.write(str(DB[i,j])+\",\")\n",
      "#     f.write(str(DB[i,NUM_COL-1])+\"\\n\")\n",
      "\n",
      "np.savetxt(\"db1.csv\",DB[:,:2],fmt=\"%d\",delimiter=\",\")"
     ],
     "language": "python",
     "metadata": {},
     "outputs": [],
     "prompt_number": 126
    },
    {
     "cell_type": "code",
     "collapsed": false,
     "input": [
      "np.savetxt(\"db2.csv\",HOUSE,fmt=\"%d\",delimiter=\",\")"
     ],
     "language": "python",
     "metadata": {},
     "outputs": [],
     "prompt_number": 128
    },
    {
     "cell_type": "code",
     "collapsed": false,
     "input": [
      "x = [2,40,60,125,250,500,1000]\n",
      "y=[103.4,135.4,134.3,192.4,263.2,302.9,459.7]\n",
      "figure = plt.gcf() # get current figure\n",
      "figure.set_size_inches(8, 6)\n",
      "p1=plt.plot(x,y,label=\"PostegreSQL\")\n",
      "plt.scatter(x,y,color=\"red\")\n",
      "plt.xlim(0,1010)\n",
      "p2=plt.axhline(25,linewidth=3, color=\"green\",label=\"Column Store\")\n",
      "plt.xlabel('Number of Columns')\n",
      "plt.ylabel('Time (ms)')\n",
      "plt.legend(loc='upper left')\n",
      "plt.savefig(\"out.pdf\",dpi=300)\n",
      "plt.show()"
     ],
     "language": "python",
     "metadata": {},
     "outputs": [
      {
       "metadata": {},
       "output_type": "display_data",
       "png": "[encoded data removed]",
       "text": [
        "<matplotlib.figure.Figure at 0x37c7050>"
       ]
      }
     ],
     "prompt_number": 27
    },
    {
     "cell_type": "code",
     "collapsed": false,
     "input": [
      "# Co"
     ],
     "language": "python",
     "metadata": {},
     "outputs": []
    }
   ],
   "metadata": {}
  }
 ]
}